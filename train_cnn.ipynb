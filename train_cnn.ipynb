{
 "cells": [
  {
   "cell_type": "code",
   "execution_count": 1,
   "id": "6aabaf7a-b620-4398-ad21-529b876bfe57",
   "metadata": {},
   "outputs": [],
   "source": [
    "# Setup environment\n",
    "# !apt-get -qq install xxd\n",
    "# !pip3 install pandas numpy matplotlib\n",
    "# !pip3 install tensorflow==2.13.0\n"
   ]
  },
  {
   "cell_type": "code",
   "execution_count": 2,
   "id": "d0bacdda",
   "metadata": {},
   "outputs": [
    {
     "name": "stderr",
     "output_type": "stream",
     "text": [
      "2024-04-05 21:54:35.893129: I tensorflow/core/platform/cpu_feature_guard.cc:182] This TensorFlow binary is optimized to use available CPU instructions in performance-critical operations.\n",
      "To enable the following instructions: AVX2 FMA, in other operations, rebuild TensorFlow with the appropriate compiler flags.\n"
     ]
    }
   ],
   "source": [
    "import matplotlib.pyplot as plt\n",
    "import numpy as np\n",
    "import pandas as pd\n",
    "import tensorflow as tf\n",
    "import glob\n",
    "import random\n",
    "\n",
    "# if tf.test.is_gpu_available():\n",
    "#     print(\"GPU is available\")\n",
    "#     # Additional GPU information\n",
    "#     gpu_devices = tf.config.experimental.list_physical_devices('GPU')\n",
    "#     print(\"Available GPU devices:\", gpu_devices)\n",
    "# else:\n",
    "#     print(\"GPU is NOT available\")"
   ]
  },
  {
   "cell_type": "code",
   "execution_count": 3,
   "id": "397c5c64-98b2-4f80-8352-094a57e24f06",
   "metadata": {},
   "outputs": [
    {
     "name": "stdout",
     "output_type": "stream",
     "text": [
      "TensorFlow version = 2.13.0\n",
      "\n",
      "total files 6501\n",
      "total  6501\n",
      "total output1 6501\n",
      "{'a': 250, 'b': 250, 'c': 250, 'd': 250, 'e': 250, 'f': 250, 'g': 250, 'h': 250, 'i': 250, 'j': 250, 'k': 250, 'l': 250, 'm': 250, 'n': 251, 'o': 250, 'p': 250, 'q': 250, 'r': 250, 's': 250, 't': 250, 'u': 250, 'v': 250, 'w': 250, 'x': 250, 'y': 250, 'z': 250}\n"
     ]
    }
   ],
   "source": [
    "file_path = \"6dmg/*\"\n",
    "\n",
    "print(f\"TensorFlow version = {tf.__version__}\\n\")\n",
    "\n",
    "# Set a fixed random seed value, for reproducibility, this will allow us to get\n",
    "# the same random numbers each time the notebook is run\n",
    "SEED = 1337\n",
    "np.random.seed(SEED)\n",
    "tf.random.set_seed(SEED)\n",
    "\n",
    "# the list of gestures that data is available for\n",
    "GESTURES = \"abcdefghijklmnopqrstuvwxyz\"\n",
    "\n",
    "SAMPLES_PER_GESTURE = 150\n",
    "\n",
    "NUM_GESTURES = 26\n",
    "\n",
    "# create a one-hot encoded matrix that is used in the output\n",
    "ONE_HOT_ENCODED_GESTURES = np.eye(NUM_GESTURES)\n",
    "\n",
    "inputs = []\n",
    "outputs = []\n",
    "outputs1 = []\n",
    "file_counts = {chr(i): 0 for i in range(ord('a'), ord('z') + 1)}\n",
    "\n",
    "datafiles = glob.glob(file_path)\n",
    "datafiles.sort()\n",
    "# datafiles.sort()\n",
    "print(\"total files\", len(datafiles))\n",
    "\n",
    "for datafile in datafiles:\n",
    "    out = []\n",
    "    pos = datafile.rfind(\"/\")\n",
    "    letter_label = datafile[pos+1]\n",
    "    try:\n",
    "        tensor = pd.read_csv(datafile, header=None)\n",
    "        # print(len(tensor))\n",
    "        # tensor = tensor[50:-50]\n",
    "        # print(\"=>\", len(tensor))\n",
    "        # inputs.append(np.array(tensor.values.ravel()))\n",
    "        inputs.append(tensor)\n",
    "\n",
    "        gesture_index = 0\n",
    "        for i in range(NUM_GESTURES):\n",
    "            if letter_label == GESTURES[i]:\n",
    "                gesture_index = i\n",
    "        output = ONE_HOT_ENCODED_GESTURES[gesture_index]\n",
    "        outputs.append(output)\n",
    "        outputs1.append(datafile[pos+1:-4])\n",
    "        file_counts[GESTURES[gesture_index]] = file_counts[GESTURES[gesture_index]] + 1\n",
    "        # print (\"processed \", datafile, \"output=\", GESTURES[gesture_index])\n",
    "    except Exception as e:\n",
    "        print(f\"{e}\")\n",
    "    finally:\n",
    "        pass\n",
    "\n",
    "print(\"total \", len(inputs))\n",
    "print(\"total output1\", len(outputs1))\n",
    "# convert the list to numpy arra\n",
    "# inputs = np.array(inputs)\n",
    "# outputs = np.array(outputs)\n",
    "\n",
    "# print(\"input shape: \", inputs.shape, \" output shape\", outputs.shape)\n",
    "# print(\"Data set parsing and preparation complete.\")\n",
    "print(file_counts)"
   ]
  },
  {
   "cell_type": "code",
   "execution_count": 4,
   "metadata": {},
   "outputs": [],
   "source": [
    "# inputs[2]\n",
    "# df = pd.DataFrame(inputs[0])\n",
    "# plt.imshow(df, cmap='binary', interpolation='nearest')\n",
    "# plt.show()"
   ]
  },
  {
   "cell_type": "code",
   "execution_count": 5,
   "metadata": {},
   "outputs": [],
   "source": [
    "array_list = inputs\n",
    "\n",
    "# array_list =[]\n",
    "# for input in inputs:\n",
    "#     df = pd.DataFrame(input)\n",
    "#     # plt.scatter(df['x'], -df['y'])\n",
    "#     # plt.show()\n",
    "#     mrange=20\n",
    "#     # print(df.shape)\n",
    "#     # print(df['x'].describe())\n",
    "#     # print(df['y'].describe())\n",
    "#     xmin = min(df['x'])\n",
    "#     xmax = max(df['x'])\n",
    "#     ymin = min(df['y'])\n",
    "#     ymax = max(df['y'])\n",
    "#     xrange = xmax-xmin\n",
    "#     yrange = ymax - ymin\n",
    "#     print(xrange, yrange)\n",
    "#     if (xrange < mrange):\n",
    "#         xrange=mrange\n",
    "#     if yrange<mrange:\n",
    "#         yrange=mrange\n",
    "#     a = np.zeros((32, 32))\n",
    "\n",
    "#     for index, row in df.iterrows():\n",
    "#         x = int((row[1] - xmin) / xrange *31 ) % 32\n",
    "#         y = int((row[2] - ymin) / yrange *31 ) % 32\n",
    "#         a[y][x] = 1\n",
    "\n",
    "#     array_list.append(a.copy())\n",
    "\n",
    "\n",
    "# plt.imshow(a, cmap='binary', interpolation='nearest')\n",
    "# plt.colorbar()\n",
    "# plt.title('32x32 Array with 0s and 1s')\n",
    "# plt.show()\n",
    "\n",
    "\n",
    "# ## \n",
    "# num_images = len(array_list)\n",
    "# num_cols = 16\n",
    "# num_rows = int(np.ceil(num_images / num_cols))\n",
    "\n",
    "# print(\"number of image\", num_images, len(outputs1))\n",
    "\n",
    "# fig, axs = plt.subplots(num_rows, num_cols, figsize=(16, num_rows))\n",
    "\n",
    "# # Plot each array in the list\n",
    "# for i, (ax, arr) in enumerate(zip(axs.flat, array_list), 1):\n",
    "#     ax.imshow(arr, cmap='binary', interpolation='nearest')\n",
    "#     ax.set_title(f'{outputs1[i-1]}')\n",
    "#     ax.axis('off')  # Turn off axis labels for better visualization\n",
    "\n",
    "# # Adjust layout to prevent overlapping titles\n",
    "# plt.tight_layout()\n",
    "# plt.show()"
   ]
  },
  {
   "cell_type": "code",
   "execution_count": 6,
   "metadata": {},
   "outputs": [],
   "source": [
    "# inputs[0]\n",
    "\n",
    "# drdf"
   ]
  },
  {
   "cell_type": "code",
   "execution_count": 7,
   "metadata": {},
   "outputs": [],
   "source": [
    "\n",
    "# rows = int(len(inputs) / 10)+1\n",
    "\n",
    "# # Plot each DataFrame\n",
    "# fig, axes = plt.subplots(rows, 10, figsize=(25, int(rows * 2.5)))\n",
    "# axes = axes.flatten()\n",
    "\n",
    "# for i, df in enumerate(inputs):\n",
    "#     ax = axes[i]\n",
    "#     ax.scatter(df['x'], -df['y'],  linewidth=0.2)\n",
    "#     ax.set_title(f'{outputs1[i]}')\n",
    "#     # ax.set_xlabel('x')\n",
    "#     # ax.set_ylabel('y')\n",
    "#     # ax.legend()\n",
    "# # # Invert y-axis to match screen coordinates\n",
    "# # plt.gca().invert_yaxis()\n",
    "\n",
    "# # Adjust layout\n",
    "# plt.tight_layout()\n",
    "# plt.show()"
   ]
  },
  {
   "cell_type": "code",
   "execution_count": 8,
   "id": "fcce447d-e1c5-4f03-a94c-dc90b16ca4b0",
   "metadata": {},
   "outputs": [
    {
     "name": "stdout",
     "output_type": "stream",
     "text": [
      "Data set randomization and splitting complete.\n"
     ]
    }
   ],
   "source": [
    "# Randomize the order of the inputs, so they can be evenly distributed for training, testing, and validation\n",
    "# https://stackoverflow.com/a/37710486/2020087\n",
    "\n",
    "inputs = np.array(array_list)\n",
    "outputs = np.array(outputs)\n",
    "num_inputs = len(inputs)\n",
    "randomize = np.arange(num_inputs)\n",
    "np.random.shuffle(randomize)\n",
    "\n",
    "# Swap the consecutive indexes (0, 1, 2, etc) with the randomized indexes\n",
    "inputs = inputs[randomize]\n",
    "outputs = outputs[randomize]\n",
    "\n",
    "# Split the recordings (group of samples) into three sets: training, testing and validation\n",
    "TRAIN_SPLIT = int(0.6 * num_inputs)\n",
    "TEST_SPLIT = int(0.2 * num_inputs + TRAIN_SPLIT)\n",
    "\n",
    "inputs_train, inputs_test, inputs_validate = np.split(inputs, [TRAIN_SPLIT, TEST_SPLIT])\n",
    "outputs_train, outputs_test, outputs_validate = np.split(outputs, [TRAIN_SPLIT, TEST_SPLIT])\n",
    "\n",
    "print(\"Data set randomization and splitting complete.\")"
   ]
  },
  {
   "cell_type": "code",
   "execution_count": 9,
   "metadata": {},
   "outputs": [
    {
     "data": {
      "text/plain": [
       "(6501, 32, 32)"
      ]
     },
     "execution_count": 9,
     "metadata": {},
     "output_type": "execute_result"
    }
   ],
   "source": [
    "inputs.shape"
   ]
  },
  {
   "cell_type": "code",
   "execution_count": 10,
   "id": "5b63a4fc-92ae-4f3d-904e-b7128216879b",
   "metadata": {},
   "outputs": [
    {
     "name": "stdout",
     "output_type": "stream",
     "text": [
      "Model: \"sequential\"\n",
      "_________________________________________________________________\n",
      " Layer (type)                Output Shape              Param #   \n",
      "=================================================================\n",
      " conv2d (Conv2D)             (None, 32, 32, 30)        150       \n",
      "                                                                 \n",
      " max_pooling2d (MaxPooling2  (None, 16, 16, 30)        0         \n",
      " D)                                                              \n",
      "                                                                 \n",
      " conv2d_1 (Conv2D)           (None, 8, 8, 30)          3630      \n",
      "                                                                 \n",
      " conv2d_2 (Conv2D)           (None, 4, 4, 30)          3630      \n",
      "                                                                 \n",
      " dropout (Dropout)           (None, 4, 4, 30)          0         \n",
      "                                                                 \n",
      " flatten (Flatten)           (None, 480)               0         \n",
      "                                                                 \n",
      " dense (Dense)               (None, 60)                28860     \n",
      "                                                                 \n",
      " dropout_1 (Dropout)         (None, 60)                0         \n",
      "                                                                 \n",
      " dense_1 (Dense)             (None, 80)                4880      \n",
      "                                                                 \n",
      " dropout_2 (Dropout)         (None, 80)                0         \n",
      "                                                                 \n",
      " dense_2 (Dense)             (None, 26)                2106      \n",
      "                                                                 \n",
      "=================================================================\n",
      "Total params: 43256 (168.97 KB)\n",
      "Trainable params: 43256 (168.97 KB)\n",
      "Non-trainable params: 0 (0.00 Byte)\n",
      "_________________________________________________________________\n",
      "None\n"
     ]
    }
   ],
   "source": [
    "# # build the model and train it\n",
    "\n",
    "model = tf.keras.Sequential(\n",
    "    [\n",
    "        tf.keras.layers.Conv2D(\n",
    "            30,\n",
    "            (2, 2),\n",
    "            padding=\"same\",\n",
    "            strides=(1, 1),\n",
    "            activation=\"relu\",\n",
    "            input_shape=(32, 32, 1),\n",
    "        ),\n",
    "        tf.keras.layers.MaxPooling2D((2, 2), strides=(2,2)),\n",
    "        # tf.keras.layers.MaxPooling2D((2, 2)),\n",
    "        tf.keras.layers.Conv2D(30, (2,2), padding='same', strides=(2,2) ,activation=\"relu\"),\n",
    "        tf.keras.layers.Conv2D(30, (2,2), padding='same', strides=(2,2) ,activation=\"relu\"),\n",
    "        # tf.keras.layers.MaxPooling2D((2, 2), strides=(2,2)),\n",
    "        tf.keras.layers.Dropout(0.1),\n",
    "        # tf.keras.layers.Flatten(input_shape=(32, 32)),\n",
    "        tf.keras.layers.Flatten(),\n",
    "        tf.keras.layers.Dense(60, activation=\"relu\"),\n",
    "        tf.keras.layers.Dropout(0.1),\n",
    "        tf.keras.layers.Dense(80, activation=\"relu\"),\n",
    "        tf.keras.layers.Dropout(0.1),\n",
    "        tf.keras.layers.Dense(26, activation=\"softmax\"),\n",
    "    ]\n",
    ")\n",
    "print(model.summary())"
   ]
  },
  {
   "cell_type": "code",
   "execution_count": 11,
   "id": "72fc1be1",
   "metadata": {},
   "outputs": [],
   "source": [
    "# # build the model and train it\n",
    "\n",
    "# model = tf.keras.Sequential(\n",
    "#     [\n",
    "#     # tf.keras.layers.Conv1D(filters=500, kernel_size=3, padding='same', strides=3, activation=\"relu\",input_shape=(SAMPLES_PER_GESTURE, 9)),\n",
    "#     # tf.keras.layers.MaxPooling1D(pool_size=2),\n",
    "#     tf.keras.layers.LSTM(units=100, input_shape=(SAMPLES_PER_GESTURE, 9), return_sequences=False),\n",
    "#     # tf.keras.layers.Conv2D(25, (1,3), padding='same', strides=(1,3) ,activation=\"relu\"),\n",
    "#     # tf.keras.layers.MaxPooling2D((2, 2), strides=(2,1)),\n",
    "\n",
    "\n",
    "#     # tf.keras.layers.GlobalMaxPooling1D(),\n",
    "#     # tf.keras.layers.Dense(58, activation=\"relu\"),\n",
    "#     # tf.keras.layers.Dropout(0.1),\n",
    "#     # tf.keras.layers.Dense(55, activation=\"relu\"),\n",
    "#     # tf.keras.layers.Dropout(0.1),    \n",
    "#     tf.keras.layers.Dense(26, activation=\"softmax\")\n",
    "# ]\n",
    "# )\n",
    "# print(model.summary())\n"
   ]
  },
  {
   "cell_type": "code",
   "execution_count": 12,
   "id": "573aeaf8",
   "metadata": {},
   "outputs": [
    {
     "name": "stdout",
     "output_type": "stream",
     "text": [
      "Epoch 1/100\n",
      "3900/3900 [==============================] - 11s 2ms/step - loss: 1.5601 - accuracy: 0.5208 - val_loss: 0.7741 - val_accuracy: 0.7425\n",
      "Epoch 2/100\n",
      "3900/3900 [==============================] - 11s 3ms/step - loss: 0.7787 - accuracy: 0.7521 - val_loss: 0.5290 - val_accuracy: 0.8478\n",
      "Epoch 3/100\n",
      "3900/3900 [==============================] - 9s 2ms/step - loss: 0.6092 - accuracy: 0.8059 - val_loss: 0.4570 - val_accuracy: 0.8624\n",
      "Epoch 4/100\n",
      "3900/3900 [==============================] - 8s 2ms/step - loss: 0.4955 - accuracy: 0.8349 - val_loss: 0.5211 - val_accuracy: 0.8417\n",
      "Epoch 5/100\n",
      "3900/3900 [==============================] - 11s 3ms/step - loss: 0.4165 - accuracy: 0.8615 - val_loss: 0.4211 - val_accuracy: 0.8778\n",
      "Epoch 6/100\n",
      "3900/3900 [==============================] - 9s 2ms/step - loss: 0.3846 - accuracy: 0.8677 - val_loss: 0.3823 - val_accuracy: 0.8901\n",
      "Epoch 7/100\n",
      "3900/3900 [==============================] - 9s 2ms/step - loss: 0.3377 - accuracy: 0.8903 - val_loss: 0.3834 - val_accuracy: 0.8870\n",
      "Epoch 8/100\n",
      "3900/3900 [==============================] - 11s 3ms/step - loss: 0.3049 - accuracy: 0.8964 - val_loss: 0.4956 - val_accuracy: 0.8732\n",
      "Epoch 9/100\n",
      "3900/3900 [==============================] - 10s 3ms/step - loss: 0.2888 - accuracy: 0.8987 - val_loss: 0.4079 - val_accuracy: 0.8939\n",
      "Epoch 10/100\n",
      "3900/3900 [==============================] - 10s 3ms/step - loss: 0.2725 - accuracy: 0.9095 - val_loss: 0.4534 - val_accuracy: 0.8870\n",
      "Epoch 11/100\n",
      "3900/3900 [==============================] - 10s 3ms/step - loss: 0.2482 - accuracy: 0.9192 - val_loss: 0.3757 - val_accuracy: 0.8932\n",
      "Epoch 12/100\n",
      "3900/3900 [==============================] - 9s 2ms/step - loss: 0.2262 - accuracy: 0.9231 - val_loss: 0.4477 - val_accuracy: 0.8878\n",
      "Epoch 13/100\n",
      "3900/3900 [==============================] - 10s 3ms/step - loss: 0.2283 - accuracy: 0.9238 - val_loss: 0.4702 - val_accuracy: 0.8809\n",
      "Epoch 14/100\n",
      "3900/3900 [==============================] - 10s 3ms/step - loss: 0.1993 - accuracy: 0.9354 - val_loss: 0.4330 - val_accuracy: 0.8947\n",
      "Epoch 15/100\n",
      "3900/3900 [==============================] - 10s 3ms/step - loss: 0.1974 - accuracy: 0.9326 - val_loss: 0.5004 - val_accuracy: 0.8762\n",
      "Epoch 16/100\n",
      "3900/3900 [==============================] - 9s 2ms/step - loss: 0.2219 - accuracy: 0.9269 - val_loss: 0.4576 - val_accuracy: 0.8985\n",
      "Epoch 17/100\n",
      "3900/3900 [==============================] - 10s 3ms/step - loss: 0.1757 - accuracy: 0.9418 - val_loss: 0.5279 - val_accuracy: 0.9001\n",
      "Epoch 18/100\n",
      "3900/3900 [==============================] - 10s 3ms/step - loss: 0.1755 - accuracy: 0.9433 - val_loss: 0.4853 - val_accuracy: 0.8832\n",
      "Epoch 19/100\n",
      "3900/3900 [==============================] - 10s 3ms/step - loss: 0.1760 - accuracy: 0.9433 - val_loss: 0.5006 - val_accuracy: 0.8832\n",
      "Epoch 20/100\n",
      "3900/3900 [==============================] - 10s 3ms/step - loss: 0.1735 - accuracy: 0.9413 - val_loss: 0.5759 - val_accuracy: 0.8801\n",
      "Epoch 21/100\n",
      "3900/3900 [==============================] - 11s 3ms/step - loss: 0.1681 - accuracy: 0.9446 - val_loss: 0.5587 - val_accuracy: 0.8847\n",
      "Epoch 22/100\n",
      "3900/3900 [==============================] - 10s 3ms/step - loss: 0.1636 - accuracy: 0.9467 - val_loss: 0.5028 - val_accuracy: 0.8855\n",
      "Epoch 23/100\n",
      "3900/3900 [==============================] - 8s 2ms/step - loss: 0.1521 - accuracy: 0.9554 - val_loss: 0.4759 - val_accuracy: 0.9001\n",
      "Epoch 24/100\n",
      "3900/3900 [==============================] - 8s 2ms/step - loss: 0.1485 - accuracy: 0.9526 - val_loss: 0.4879 - val_accuracy: 0.8978\n",
      "Epoch 25/100\n",
      "3900/3900 [==============================] - 8s 2ms/step - loss: 0.1775 - accuracy: 0.9456 - val_loss: 0.4787 - val_accuracy: 0.8924\n",
      "Epoch 26/100\n",
      "3900/3900 [==============================] - 9s 2ms/step - loss: 0.1371 - accuracy: 0.9559 - val_loss: 0.6673 - val_accuracy: 0.8801\n",
      "Epoch 27/100\n",
      "3900/3900 [==============================] - 10s 3ms/step - loss: 0.1608 - accuracy: 0.9479 - val_loss: 0.6539 - val_accuracy: 0.8778\n",
      "Epoch 28/100\n",
      "3900/3900 [==============================] - 10s 3ms/step - loss: 0.1323 - accuracy: 0.9582 - val_loss: 0.5464 - val_accuracy: 0.8978\n",
      "Epoch 29/100\n",
      "3900/3900 [==============================] - 10s 2ms/step - loss: 0.1468 - accuracy: 0.9523 - val_loss: 0.6092 - val_accuracy: 0.8739\n",
      "Epoch 30/100\n",
      "3900/3900 [==============================] - 8s 2ms/step - loss: 0.1659 - accuracy: 0.9549 - val_loss: 0.6430 - val_accuracy: 0.8747\n",
      "Epoch 31/100\n",
      "3900/3900 [==============================] - 7s 2ms/step - loss: 0.1311 - accuracy: 0.9608 - val_loss: 0.5667 - val_accuracy: 0.8939\n",
      "Epoch 32/100\n",
      "3900/3900 [==============================] - 8s 2ms/step - loss: 0.1542 - accuracy: 0.9521 - val_loss: 0.5409 - val_accuracy: 0.8885\n",
      "Epoch 33/100\n",
      "3900/3900 [==============================] - 9s 2ms/step - loss: 0.1145 - accuracy: 0.9608 - val_loss: 0.7442 - val_accuracy: 0.8739\n",
      "Epoch 34/100\n",
      "3900/3900 [==============================] - 9s 2ms/step - loss: 0.1286 - accuracy: 0.9659 - val_loss: 0.6771 - val_accuracy: 0.8916\n",
      "Epoch 35/100\n",
      "3900/3900 [==============================] - 9s 2ms/step - loss: 0.1268 - accuracy: 0.9585 - val_loss: 0.7110 - val_accuracy: 0.8962\n",
      "Epoch 36/100\n",
      "3900/3900 [==============================] - 8s 2ms/step - loss: 0.1423 - accuracy: 0.9585 - val_loss: 0.5277 - val_accuracy: 0.8970\n",
      "Epoch 37/100\n",
      "3900/3900 [==============================] - 8s 2ms/step - loss: 0.1151 - accuracy: 0.9621 - val_loss: 0.5838 - val_accuracy: 0.8855\n",
      "Epoch 38/100\n",
      "3900/3900 [==============================] - 8s 2ms/step - loss: 0.1127 - accuracy: 0.9649 - val_loss: 0.8006 - val_accuracy: 0.8924\n",
      "Epoch 39/100\n",
      "3900/3900 [==============================] - 8s 2ms/step - loss: 0.1218 - accuracy: 0.9608 - val_loss: 0.6607 - val_accuracy: 0.8832\n",
      "Epoch 40/100\n",
      "3900/3900 [==============================] - 9s 2ms/step - loss: 0.1313 - accuracy: 0.9633 - val_loss: 0.6506 - val_accuracy: 0.8839\n",
      "Epoch 41/100\n",
      "3900/3900 [==============================] - 9s 2ms/step - loss: 0.1311 - accuracy: 0.9644 - val_loss: 0.6218 - val_accuracy: 0.8885\n",
      "Epoch 42/100\n",
      "3900/3900 [==============================] - 9s 2ms/step - loss: 0.1196 - accuracy: 0.9628 - val_loss: 0.7161 - val_accuracy: 0.8885\n",
      "Epoch 43/100\n",
      "3900/3900 [==============================] - 8s 2ms/step - loss: 0.1052 - accuracy: 0.9656 - val_loss: 0.6149 - val_accuracy: 0.8893\n",
      "Epoch 44/100\n",
      "3900/3900 [==============================] - 10s 2ms/step - loss: 0.1257 - accuracy: 0.9641 - val_loss: 0.9090 - val_accuracy: 0.8547\n",
      "Epoch 45/100\n",
      "3900/3900 [==============================] - 10s 2ms/step - loss: 0.1342 - accuracy: 0.9592 - val_loss: 0.5615 - val_accuracy: 0.8809\n",
      "Epoch 46/100\n",
      "3900/3900 [==============================] - 8s 2ms/step - loss: 0.1214 - accuracy: 0.9646 - val_loss: 0.5582 - val_accuracy: 0.8893\n",
      "Epoch 47/100\n",
      "3900/3900 [==============================] - 10s 2ms/step - loss: 0.1094 - accuracy: 0.9669 - val_loss: 0.8225 - val_accuracy: 0.8801\n",
      "Epoch 48/100\n",
      "3900/3900 [==============================] - 9s 2ms/step - loss: 0.1198 - accuracy: 0.9654 - val_loss: 0.7232 - val_accuracy: 0.8955\n",
      "Epoch 49/100\n",
      "3900/3900 [==============================] - 7s 2ms/step - loss: 0.1011 - accuracy: 0.9664 - val_loss: 0.7251 - val_accuracy: 0.8947\n",
      "Epoch 50/100\n",
      "3900/3900 [==============================] - 8s 2ms/step - loss: 0.1317 - accuracy: 0.9651 - val_loss: 0.6679 - val_accuracy: 0.8862\n",
      "Epoch 51/100\n",
      "3900/3900 [==============================] - 7s 2ms/step - loss: 0.1124 - accuracy: 0.9667 - val_loss: 0.7236 - val_accuracy: 0.8909\n",
      "Epoch 52/100\n",
      "3900/3900 [==============================] - 8s 2ms/step - loss: 0.1191 - accuracy: 0.9646 - val_loss: 0.6154 - val_accuracy: 0.8862\n",
      "Epoch 53/100\n",
      "3900/3900 [==============================] - 8s 2ms/step - loss: 0.1073 - accuracy: 0.9718 - val_loss: 0.8814 - val_accuracy: 0.8878\n",
      "Epoch 54/100\n",
      "3900/3900 [==============================] - 10s 3ms/step - loss: 0.1469 - accuracy: 0.9610 - val_loss: 0.6467 - val_accuracy: 0.8893\n",
      "Epoch 55/100\n",
      "3900/3900 [==============================] - 9s 2ms/step - loss: 0.1233 - accuracy: 0.9633 - val_loss: 0.6720 - val_accuracy: 0.8916\n",
      "Epoch 56/100\n",
      "3900/3900 [==============================] - 8s 2ms/step - loss: 0.1184 - accuracy: 0.9685 - val_loss: 0.5990 - val_accuracy: 0.8786\n",
      "Epoch 57/100\n",
      "3900/3900 [==============================] - 8s 2ms/step - loss: 0.1133 - accuracy: 0.9664 - val_loss: 0.6105 - val_accuracy: 0.8932\n",
      "Epoch 58/100\n",
      "3900/3900 [==============================] - 7s 2ms/step - loss: 0.1173 - accuracy: 0.9654 - val_loss: 0.6675 - val_accuracy: 0.8909\n",
      "Epoch 59/100\n",
      "3900/3900 [==============================] - 8s 2ms/step - loss: 0.1328 - accuracy: 0.9641 - val_loss: 0.7715 - val_accuracy: 0.8970\n",
      "Epoch 60/100\n",
      "3900/3900 [==============================] - 10s 2ms/step - loss: 0.1302 - accuracy: 0.9656 - val_loss: 0.7454 - val_accuracy: 0.8932\n",
      "Epoch 61/100\n",
      "3900/3900 [==============================] - 9s 2ms/step - loss: 0.1355 - accuracy: 0.9636 - val_loss: 0.7589 - val_accuracy: 0.8955\n",
      "Epoch 62/100\n",
      "3900/3900 [==============================] - 8s 2ms/step - loss: 0.1020 - accuracy: 0.9685 - val_loss: 0.7733 - val_accuracy: 0.8893\n",
      "Epoch 63/100\n",
      "3900/3900 [==============================] - 8s 2ms/step - loss: 0.0975 - accuracy: 0.9708 - val_loss: 0.7176 - val_accuracy: 0.8939\n",
      "Epoch 64/100\n",
      "3900/3900 [==============================] - 9s 2ms/step - loss: 0.1282 - accuracy: 0.9649 - val_loss: 0.6291 - val_accuracy: 0.8955\n",
      "Epoch 65/100\n",
      "3900/3900 [==============================] - 8s 2ms/step - loss: 0.1103 - accuracy: 0.9703 - val_loss: 0.9479 - val_accuracy: 0.8762\n",
      "Epoch 66/100\n",
      "3900/3900 [==============================] - 9s 2ms/step - loss: 0.1073 - accuracy: 0.9690 - val_loss: 0.7189 - val_accuracy: 0.8978\n",
      "Epoch 67/100\n",
      "3900/3900 [==============================] - 9s 2ms/step - loss: 0.1015 - accuracy: 0.9710 - val_loss: 0.8933 - val_accuracy: 0.8686\n",
      "Epoch 68/100\n",
      "3900/3900 [==============================] - 8s 2ms/step - loss: 0.1072 - accuracy: 0.9710 - val_loss: 0.9125 - val_accuracy: 0.8739\n",
      "Epoch 69/100\n",
      "3900/3900 [==============================] - 9s 2ms/step - loss: 0.1195 - accuracy: 0.9674 - val_loss: 0.7535 - val_accuracy: 0.8939\n",
      "Epoch 70/100\n",
      "3900/3900 [==============================] - 10s 2ms/step - loss: 0.1221 - accuracy: 0.9667 - val_loss: 1.0846 - val_accuracy: 0.8755\n",
      "Epoch 71/100\n",
      "3900/3900 [==============================] - 7s 2ms/step - loss: 0.1150 - accuracy: 0.9715 - val_loss: 0.9176 - val_accuracy: 0.8693\n",
      "Epoch 72/100\n",
      "3900/3900 [==============================] - 8s 2ms/step - loss: 0.1255 - accuracy: 0.9672 - val_loss: 0.9479 - val_accuracy: 0.8686\n",
      "Epoch 73/100\n",
      "3900/3900 [==============================] - 9s 2ms/step - loss: 0.1096 - accuracy: 0.9718 - val_loss: 0.7138 - val_accuracy: 0.8847\n",
      "Epoch 74/100\n",
      "3900/3900 [==============================] - 9s 2ms/step - loss: 0.1027 - accuracy: 0.9710 - val_loss: 0.8543 - val_accuracy: 0.8932\n",
      "Epoch 75/100\n",
      "3900/3900 [==============================] - 9s 2ms/step - loss: 0.1211 - accuracy: 0.9677 - val_loss: 0.8469 - val_accuracy: 0.8916\n",
      "Epoch 76/100\n",
      "3900/3900 [==============================] - 11s 3ms/step - loss: 0.1265 - accuracy: 0.9692 - val_loss: 0.6269 - val_accuracy: 0.8932\n",
      "Epoch 77/100\n",
      "3900/3900 [==============================] - 16s 4ms/step - loss: 0.1011 - accuracy: 0.9708 - val_loss: 0.9536 - val_accuracy: 0.8885\n",
      "Epoch 78/100\n",
      "3900/3900 [==============================] - 17s 4ms/step - loss: 0.1197 - accuracy: 0.9692 - val_loss: 0.8700 - val_accuracy: 0.8970\n",
      "Epoch 79/100\n",
      "3900/3900 [==============================] - 17s 4ms/step - loss: 0.1213 - accuracy: 0.9679 - val_loss: 0.8208 - val_accuracy: 0.8932\n",
      "Epoch 80/100\n",
      "3900/3900 [==============================] - 13s 3ms/step - loss: 0.1065 - accuracy: 0.9708 - val_loss: 0.7444 - val_accuracy: 0.8839\n",
      "Epoch 81/100\n",
      "3900/3900 [==============================] - 11s 3ms/step - loss: 0.1302 - accuracy: 0.9636 - val_loss: 0.8494 - val_accuracy: 0.8855\n",
      "Epoch 82/100\n",
      "3900/3900 [==============================] - 11s 3ms/step - loss: 0.1246 - accuracy: 0.9682 - val_loss: 0.8596 - val_accuracy: 0.8801\n",
      "Epoch 83/100\n",
      "3900/3900 [==============================] - 8s 2ms/step - loss: 0.1321 - accuracy: 0.9677 - val_loss: 0.8719 - val_accuracy: 0.8962\n",
      "Epoch 84/100\n",
      "3900/3900 [==============================] - 8s 2ms/step - loss: 0.0994 - accuracy: 0.9746 - val_loss: 0.7255 - val_accuracy: 0.8924\n",
      "Epoch 85/100\n",
      "3900/3900 [==============================] - 9s 2ms/step - loss: 0.1229 - accuracy: 0.9685 - val_loss: 1.0273 - val_accuracy: 0.8832\n",
      "Epoch 86/100\n",
      "3900/3900 [==============================] - 14s 4ms/step - loss: 0.1479 - accuracy: 0.9610 - val_loss: 0.7617 - val_accuracy: 0.8878\n",
      "Epoch 87/100\n",
      "3900/3900 [==============================] - 35s 9ms/step - loss: 0.1067 - accuracy: 0.9718 - val_loss: 0.7045 - val_accuracy: 0.8824\n",
      "Epoch 88/100\n",
      "3900/3900 [==============================] - 20s 5ms/step - loss: 0.1074 - accuracy: 0.9718 - val_loss: 0.7064 - val_accuracy: 0.8878\n",
      "Epoch 89/100\n",
      "3900/3900 [==============================] - 17s 4ms/step - loss: 0.1087 - accuracy: 0.9695 - val_loss: 1.2321 - val_accuracy: 0.8878\n",
      "Epoch 90/100\n",
      "3900/3900 [==============================] - 13s 3ms/step - loss: 0.1123 - accuracy: 0.9705 - val_loss: 0.8705 - val_accuracy: 0.8862\n",
      "Epoch 91/100\n",
      "3900/3900 [==============================] - 9s 2ms/step - loss: 0.1306 - accuracy: 0.9667 - val_loss: 0.7743 - val_accuracy: 0.8924\n",
      "Epoch 92/100\n",
      "3900/3900 [==============================] - 8s 2ms/step - loss: 0.1177 - accuracy: 0.9690 - val_loss: 0.9034 - val_accuracy: 0.8978\n",
      "Epoch 93/100\n",
      "3900/3900 [==============================] - 8s 2ms/step - loss: 0.0970 - accuracy: 0.9718 - val_loss: 0.7679 - val_accuracy: 0.8909\n",
      "Epoch 94/100\n",
      "3900/3900 [==============================] - 8s 2ms/step - loss: 0.1314 - accuracy: 0.9690 - val_loss: 0.7471 - val_accuracy: 0.8909\n",
      "Epoch 95/100\n",
      "3900/3900 [==============================] - 8s 2ms/step - loss: 0.1041 - accuracy: 0.9708 - val_loss: 0.9078 - val_accuracy: 0.8870\n",
      "Epoch 96/100\n",
      "3900/3900 [==============================] - 8s 2ms/step - loss: 0.1506 - accuracy: 0.9672 - val_loss: 0.7189 - val_accuracy: 0.9085\n",
      "Epoch 97/100\n",
      "3900/3900 [==============================] - 8s 2ms/step - loss: 0.0948 - accuracy: 0.9731 - val_loss: 0.9448 - val_accuracy: 0.8985\n",
      "Epoch 98/100\n",
      "3900/3900 [==============================] - 8s 2ms/step - loss: 0.1281 - accuracy: 0.9674 - val_loss: 0.8020 - val_accuracy: 0.9024\n",
      "Epoch 99/100\n",
      "3900/3900 [==============================] - 16s 4ms/step - loss: 0.1277 - accuracy: 0.9664 - val_loss: 0.9693 - val_accuracy: 0.8755\n",
      "Epoch 100/100\n",
      "3900/3900 [==============================] - 13s 3ms/step - loss: 0.1149 - accuracy: 0.9692 - val_loss: 0.8569 - val_accuracy: 0.8901\n"
     ]
    }
   ],
   "source": [
    "# model.compile(optimizer='rmsprop', loss='mse', metrics=['mae'])\n",
    "model.compile(optimizer='adam', loss='categorical_crossentropy', metrics=['accuracy'])\n",
    "history = model.fit(inputs_train, outputs_train, epochs=100, batch_size=1, validation_data=(inputs_validate, outputs_validate))"
   ]
  },
  {
   "cell_type": "code",
   "execution_count": 13,
   "id": "b67a1a0c",
   "metadata": {},
   "outputs": [],
   "source": [
    "# import numpy as np\n",
    "# from tensorflow.keras.models import Sequential\n",
    "# from tensorflow.keras.layers import Bidirectional, LSTM, Dense\n",
    "# from tensorflow.keras.optimizers import Adam\n",
    "# from tensorflow.keras.losses import SparseCategoricalCrossentropy\n",
    "\n",
    "# # Assuming you have your input data and labels\n",
    "# # Replace X_train and y_train with your actual data and labels\n",
    "# X_train = np.random.rand(7911, 150, 9)\n",
    "# y_train = np.random.randint(0, 26, size=(7911, 26))\n",
    "\n",
    "# print (X_train.shape)\n",
    "# print (y_train.shape)\n",
    "# print (y_train[0])\n",
    "# # Define the model\n",
    "# model = Sequential()\n",
    "# model.add(LSTM(units=50, return_sequences=True, input_shape=(150, 9)))\n",
    "# model.add(Dense(units=26, activation='softmax'))\n",
    "\n",
    "# # Compile the model\n",
    "# model.compile(optimizer=Adam(), loss=SparseCategoricalCrossentropy(), metrics=['accuracy'])\n",
    "\n",
    "\n",
    "# # Train the model\n",
    "# batch_size = 32\n",
    "# epochs = 10\n",
    "# print(model.summary())\n",
    "# model.fit(X_train, y_train, batch_size=batch_size, epochs=epochs, validation_split=0.2)\n"
   ]
  },
  {
   "cell_type": "code",
   "execution_count": 14,
   "id": "8d10d097-0699-436e-bfaf-2027881fe565",
   "metadata": {},
   "outputs": [
    {
     "data": {
      "image/png": "[encoded data removed]",
      "text/plain": [
       "<Figure size 500x300 with 1 Axes>"
      ]
     },
     "metadata": {},
     "output_type": "display_data"
    },
    {
     "name": "stdout",
     "output_type": "stream",
     "text": [
      "[5.0, 3.0]\n"
     ]
    }
   ],
   "source": [
    "# increase the size of the graphs. The default size is (6,4).\n",
    "plt.rcParams[\"figure.figsize\"] = (5,3)\n",
    "\n",
    "# graph the loss, the model above is configure to use \"mean squared error\" as the loss function\n",
    "loss = history.history['loss']\n",
    "val_loss = history.history['val_loss']\n",
    "epochs = range(1, len(loss) + 1)\n",
    "plt.plot(epochs, loss, 'g.', label='Training loss')\n",
    "plt.plot(epochs, val_loss, 'b', label='Validation loss')\n",
    "plt.title('Training and validation loss')\n",
    "plt.xlabel('Epochs')\n",
    "plt.ylabel('Loss')\n",
    "plt.legend()\n",
    "plt.show()\n",
    "\n",
    "print(plt.rcParams[\"figure.figsize\"])"
   ]
  },
  {
   "cell_type": "code",
   "execution_count": 15,
   "id": "a293c6f9-526f-4686-a511-88340c259620",
   "metadata": {},
   "outputs": [
    {
     "data": {
      "image/png": "[encoded data removed]",
      "text/plain": [
       "<Figure size 500x300 with 1 Axes>"
      ]
     },
     "metadata": {},
     "output_type": "display_data"
    }
   ],
   "source": [
    "# graph the loss again skipping a bit of the start\n",
    "SKIP = 50\n",
    "plt.plot(epochs[SKIP:], loss[SKIP:], 'g.', label='Training loss')\n",
    "plt.plot(epochs[SKIP:], val_loss[SKIP:], 'b.', label='Validation loss')\n",
    "plt.title('Training and validation loss')\n",
    "plt.xlabel('Epochs')\n",
    "plt.ylabel('Loss')\n",
    "plt.legend()\n",
    "plt.show()"
   ]
  },
  {
   "cell_type": "code",
   "execution_count": 16,
   "id": "31f65474-4a08-441a-8b3d-f00d4a5f0354",
   "metadata": {},
   "outputs": [],
   "source": [
    "# graph of mean absolute error\n",
    "# mae = history.history['mae']\n",
    "# val_mae = history.history['val_mae']\n",
    "# plt.plot(epochs[SKIP:], mae[SKIP:], 'g.', label='Training MAE')\n",
    "# plt.plot(epochs[SKIP:], val_mae[SKIP:], 'b.', label='Validation MAE')\n",
    "# plt.title('Training and validation mean absolute error')\n",
    "# plt.xlabel('Epochs')\n",
    "# plt.ylabel('MAE')\n",
    "# plt.legend()\n",
    "# plt.show()\n"
   ]
  },
  {
   "cell_type": "code",
   "execution_count": 17,
   "id": "6684e7f5",
   "metadata": {},
   "outputs": [
    {
     "name": "stdout",
     "output_type": "stream",
     "text": [
      "input shape (1300, 32, 32)\n",
      "<class 'numpy.ndarray'>\n"
     ]
    }
   ],
   "source": [
    "print(\"input shape\" , inputs_test.shape)\n",
    "print(type(inputs_test))\n",
    "# print (len(data1))\n",
    "# inputs_test = np.concatenate((inputs_test, [np.array(data1)]), axis=0)\n",
    "# print(\"input shape\" , inputs_test.shape)"
   ]
  },
  {
   "cell_type": "code",
   "execution_count": 18,
   "id": "c2a2b3b9",
   "metadata": {},
   "outputs": [],
   "source": [
    "# t1 = pd.read_csv(\"processed_data/a_1.dat\")\n",
    "# print(t1)\n",
    "# single_sample = np.array(t1.values.ravel())\n",
    "# single_sample1 = (t1.melt().value.tolist())\n",
    "# print(type(single_sample))\n",
    "# prediction = model.predict(np.expand_dims(single_sample, axis=0))\n",
    "# prediction1 = model.predict(np.expand_dims(single_sample1, axis=0))\n",
    "\n",
    "# formatted_numbers = [\"{:.2f}\".format(number) for number in prediction[0]]\n",
    "\n",
    "# print(\"Formatted Numbers:\", formatted_numbers)\n",
    "# print(\"Prediction:\", prediction)\n",
    "# prediction = model.predict([t1])\n",
    "# print(\"predictions =\\n\", np.round(prediction, decimals=3))\n",
    "# print(single_sample)\n",
    "# print(single_sample1)"
   ]
  },
  {
   "cell_type": "code",
   "execution_count": 19,
   "id": "1fdde0c0",
   "metadata": {},
   "outputs": [],
   "source": [
    "# t1 = pd.read_csv(\"processed_data/a_1.dat\")\n",
    "# [np.array(t1.values.ravel())]\n",
    "\n",
    "# inputs_test = np.concatenate((inputs_test, [np.array(t1.values.ravel())]), axis=0)\n",
    "# # "
   ]
  },
  {
   "cell_type": "code",
   "execution_count": 20,
   "id": "b0b548b0-55f8-495c-ad78-4bd4a459f5ab",
   "metadata": {},
   "outputs": [
    {
     "name": "stdout",
     "output_type": "stream",
     "text": [
      "41/41 [==============================] - 0s 4ms/step\n",
      "pred shape (1300, 26)\n",
      "predictions =\n",
      " [[0.    0.    0.    ... 0.    0.    0.   ]\n",
      " [0.    0.    0.    ... 0.    0.    0.   ]\n",
      " [0.016 0.    0.    ... 0.077 0.01  0.035]\n",
      " ...\n",
      " [0.999 0.    0.    ... 0.    0.    0.   ]\n",
      " [0.    0.    0.    ... 0.003 0.006 0.   ]\n",
      " [0.    0.    0.    ... 0.    0.    0.   ]]\n",
      "actual =\n",
      " [[0. 0. 0. ... 0. 0. 0.]\n",
      " [0. 0. 0. ... 0. 0. 0.]\n",
      " [0. 0. 0. ... 0. 0. 0.]\n",
      " ...\n",
      " [1. 0. 0. ... 0. 0. 0.]\n",
      " [0. 0. 0. ... 0. 1. 0.]\n",
      " [0. 0. 0. ... 0. 0. 0.]]\n",
      "[[ 0.  0.  0. ...  0.  0.  0.]\n",
      " [ 0.  0.  0. ...  0.  0.  0.]\n",
      " [ 0.  0.  0. ...  0.  0.  0.]\n",
      " ...\n",
      " [-0.  0.  0. ...  0.  0.  0.]\n",
      " [ 0.  0.  0. ...  0. -1.  0.]\n",
      " [ 0.  0.  0. ...  0.  0.  0.]]\n"
     ]
    }
   ],
   "source": [
    "# use the model to predict the test inputs\n",
    "predictions = model.predict(inputs_test)\n",
    "print(\"pred shape\" , predictions.shape)\n",
    "# predictions = model.predict(inputs_test[0].reshape(1,1248))\n",
    "# print(predictions[0])\n",
    "# print(outputs_test[0])\n",
    "# print (inputs_test[0])\n",
    "\n",
    "# pd.DataFrame(inputs_test[0]).to_csv(\"test1.h\", sep=',', encoding='utf-8', index=False, header=False)\n",
    "# !echo \"const unsigned char tt[] = {\" > ./tt.h\n",
    "# !cat \"test1.csv\" | xxd -i      >> ./tt.h\n",
    "# !echo \"};\"                              >> ./tt.h\n",
    "\n",
    "# print the predictions and the expected ouputs\n",
    "print(\"predictions =\\n\", np.round(predictions, decimals=3))\n",
    "\n",
    "print(\"actual =\\n\", outputs_test)\n",
    "a = np.round(predictions - outputs_test, decimals=0)\n",
    "print(a)\n",
    "# Plot the predictions along with to the test data\n",
    "# plt.clf()\n",
    "# plt.title('Training data predicted vs actual values')\n",
    "# plt.plot( outputs_test, 'b.', label='Actual')\n",
    "# plt.plot( predictions, 'r.', label='Predicted')\n",
    "# plt.show()\n"
   ]
  },
  {
   "cell_type": "code",
   "execution_count": 21,
   "id": "502fd9c0",
   "metadata": {},
   "outputs": [
    {
     "name": "stdout",
     "output_type": "stream",
     "text": [
      "float64\n",
      "float32\n"
     ]
    }
   ],
   "source": [
    "print(outputs_test[:, 0].dtype)\n",
    "print(predictions[:, 0].dtype)"
   ]
  },
  {
   "cell_type": "code",
   "execution_count": 22,
   "id": "4e7bbaab",
   "metadata": {},
   "outputs": [
    {
     "name": "stdout",
     "output_type": "stream",
     "text": [
      "(1300, 26)\n",
      "tests by letter:  [57 41 59 47 51 52 47 51 53 50 60 51 55 51 54 51 49 55 45 46 58 44 49 36\n",
      " 46 42]\n",
      "wrong predict by letter:  [24  8  8 21 10 16  5 15  4  9 25  2 16 17 12 27  3 13  5 14  6  6  8  4\n",
      " 13  4]\n",
      "wrong rate:  [0.42 0.2  0.14 0.45 0.2  0.31 0.11 0.29 0.08 0.18 0.42 0.04 0.29 0.33\n",
      " 0.22 0.53 0.06 0.24 0.11 0.3  0.1  0.14 0.16 0.11 0.28 0.1 ]\n"
     ]
    }
   ],
   "source": [
    "pre = (predictions + 0.5).astype(int)\n",
    "# pre\n",
    "a = pre-outputs_test\n",
    "print(a.shape)\n",
    "tests_by_letter = outputs_test.astype(bool).sum(axis=0)\n",
    "print(\"tests by letter: \", tests_by_letter)\n",
    "wrong_predict_by_letter = a.astype(bool).sum(axis=0)\n",
    "print(\"wrong predict by letter: \", wrong_predict_by_letter)\n",
    "print(\"wrong rate: \", np.round(wrong_predict_by_letter/tests_by_letter, decimals=2))"
   ]
  },
  {
   "cell_type": "code",
   "execution_count": 23,
   "id": "391c2cab",
   "metadata": {},
   "outputs": [],
   "source": [
    "from sklearn.metrics import accuracy_score, precision_score, recall_score, f1_score, confusion_matrix\n",
    "# accuracy = accuracy_score(outputs_test, predictions)\n",
    "# precision = precision_score(outputs_test, predictions)\n",
    "# recall = recall_score(outputs_test, predictions)\n",
    "# f1 = f1_score(outputs_test, predictions)\n",
    "# conf_matrix = confusion_matrix(outputs_test, predictions)\n",
    "\n",
    "# print(f\"Accuracy: {accuracy}\")\n",
    "# print(f\"Precision: {precision}\")\n",
    "# print(f\"Recall: {recall}\")\n",
    "# print(f\"F1-Score: {f1}\")\n",
    "# print(f\"Confusion Matrix:\\n{conf_matrix}\")\n",
    "# Initialize an array to store accuracy for each class\n",
    "\n",
    "# class_accuracies = []\n",
    "\n",
    "# # Iterate over each class (assuming axis 1 represents classes)\n",
    "# for class_index in range(26):\n",
    "#     true_labels_class = outputs_test[:, class_index]\n",
    "#     predicted_labels_class = pre[:, class_index]\n",
    "#     accuracy = accuracy_score(true_labels_class, predicted_labels_class)\n",
    "#     class_accuracies.append(accuracy)\n",
    "\n",
    "# # Calculate micro-average accuracy (overall accuracy)\n",
    "# micro_average_accuracy = accuracy_score(outputs_test, predictions)\n",
    "\n",
    "# # Calculate macro-average accuracy (average accuracy across classes)\n",
    "# macro_average_accuracy = sum(class_accuracies) / len(class_accuracies)\n",
    "\n",
    "# # Print individual class accuracies and the macro/micro averages\n",
    "# for class_index, accuracy in enumerate(class_accuracies):\n",
    "#     print(f\"Class {class_index}: Accuracy = {accuracy}\")\n",
    "\n",
    "# print(f\"Micro-average accuracy: {micro_average_accuracy}\")\n",
    "# print(f\"Macro-average accuracy: {macro_average_accuracy}\")\n",
    "# In the code above:\n",
    "\n",
    "# We iterate over each class, treating it as a binary classification problem by selecting the true labels and predicted labels for that class.\n",
    "# We calculate the accuracy for each class separately and store it in the class_accuracies list.\n",
    "# We compute the micro-average accuracy, which is the overall accuracy across all samples and classes.\n",
    "# We compute the macro-average accuracy, which is the average accuracy across all classes.\n",
    "# This approach allows you to evaluate the performance of your multi-class classification model for each individual class and provides overall accuracy metrics as well.\n",
    "\n",
    "\n",
    "\n",
    "\n",
    "\n"
   ]
  },
  {
   "cell_type": "code",
   "execution_count": 24,
   "id": "84406d74",
   "metadata": {},
   "outputs": [
    {
     "name": "stdout",
     "output_type": "stream",
     "text": [
      "r2= 0.8039465326522734\n"
     ]
    }
   ],
   "source": [
    "# import matplotlib.pyplot as plt\n",
    "\n",
    "# plt.scatter(outputs_test, predictions)\n",
    "# plt.xlabel(\"True Values\")\n",
    "# plt.ylabel(\"Predictions\")\n",
    "# plt.show()\n",
    "\n",
    "from sklearn.metrics import r2_score\n",
    "\n",
    "\n",
    "r2 = r2_score(outputs_test, predictions)\n",
    "print(\"r2=\", r2)"
   ]
  },
  {
   "cell_type": "code",
   "execution_count": 25,
   "id": "666497c8",
   "metadata": {},
   "outputs": [
    {
     "data": {
      "text/plain": [
       "array([0., 0., 0., 0., 0., 0., 0., 0., 0., 0., 0., 0., 0., 0., 1., 0., 0.,\n",
       "       0., 0., 0., 0., 0., 0., 0., 0., 0.])"
      ]
     },
     "execution_count": 25,
     "metadata": {},
     "output_type": "execute_result"
    }
   ],
   "source": [
    "outputs_test[0]"
   ]
  },
  {
   "cell_type": "code",
   "execution_count": 26,
   "id": "1052b658",
   "metadata": {},
   "outputs": [
    {
     "data": {
      "text/plain": [
       "array([0, 0, 0, 0, 0, 0, 0, 0, 0, 0, 0, 0, 0, 0, 1, 0, 0, 0, 0, 0, 0, 0,\n",
       "       0, 0, 0, 0])"
      ]
     },
     "execution_count": 26,
     "metadata": {},
     "output_type": "execute_result"
    }
   ],
   "source": [
    "(predictions[0]+0.5).astype(int)"
   ]
  },
  {
   "cell_type": "code",
   "execution_count": 27,
   "id": "710498bd",
   "metadata": {},
   "outputs": [],
   "source": [
    "# tf.saved_model.save(model, 'my_saved_model')"
   ]
  },
  {
   "cell_type": "code",
   "execution_count": 28,
   "id": "31b95bed-c0d8-4dbd-a273-d65a02c98a28",
   "metadata": {},
   "outputs": [
    {
     "name": "stdout",
     "output_type": "stream",
     "text": [
      "INFO:tensorflow:Assets written to: /var/folders/37/t8fhr8j953xfnbs16xcvwq3w0000gn/T/tmpqn3gmb8c/assets\n"
     ]
    },
    {
     "name": "stderr",
     "output_type": "stream",
     "text": [
      "INFO:tensorflow:Assets written to: /var/folders/37/t8fhr8j953xfnbs16xcvwq3w0000gn/T/tmpqn3gmb8c/assets\n"
     ]
    },
    {
     "name": "stdout",
     "output_type": "stream",
     "text": [
      "Model is 177168 bytes\n"
     ]
    },
    {
     "name": "stderr",
     "output_type": "stream",
     "text": [
      "2024-04-05 22:11:25.694191: W tensorflow/compiler/mlir/lite/python/tf_tfl_flatbuffer_helpers.cc:364] Ignored output_format.\n",
      "2024-04-05 22:11:25.694212: W tensorflow/compiler/mlir/lite/python/tf_tfl_flatbuffer_helpers.cc:367] Ignored drop_control_dependency.\n",
      "2024-04-05 22:11:25.695189: I tensorflow/cc/saved_model/reader.cc:45] Reading SavedModel from: /var/folders/37/t8fhr8j953xfnbs16xcvwq3w0000gn/T/tmpqn3gmb8c\n",
      "2024-04-05 22:11:25.698013: I tensorflow/cc/saved_model/reader.cc:91] Reading meta graph with tags { serve }\n",
      "2024-04-05 22:11:25.698030: I tensorflow/cc/saved_model/reader.cc:132] Reading SavedModel debug info (if present) from: /var/folders/37/t8fhr8j953xfnbs16xcvwq3w0000gn/T/tmpqn3gmb8c\n",
      "2024-04-05 22:11:25.704443: I tensorflow/compiler/mlir/mlir_graph_optimization_pass.cc:375] MLIR V1 optimization pass is not enabled\n",
      "2024-04-05 22:11:25.707128: I tensorflow/cc/saved_model/loader.cc:231] Restoring SavedModel bundle.\n",
      "2024-04-05 22:11:25.800285: I tensorflow/cc/saved_model/loader.cc:215] Running initialization op on SavedModel bundle at path: /var/folders/37/t8fhr8j953xfnbs16xcvwq3w0000gn/T/tmpqn3gmb8c\n",
      "2024-04-05 22:11:25.830166: I tensorflow/cc/saved_model/loader.cc:314] SavedModel load for tags { serve }; Status: success: OK. Took 134977 microseconds.\n",
      "2024-04-05 22:11:25.857053: I tensorflow/compiler/mlir/tensorflow/utils/dump_mlir_util.cc:255] disabling MLIR crash reproducer, set env var `MLIR_CRASH_REPRODUCER_DIRECTORY` to enable.\n"
     ]
    }
   ],
   "source": [
    "# Convert the model to the TensorFlow Lite format without quantization\n",
    "converter = tf.lite.TFLiteConverter.from_keras_model(model)\n",
    "# converter.optimizations = [tf.lite.Optimize.OPTIMIZE_FOR_SIZE]\n",
    "tflite_model = converter.convert()\n",
    "\n",
    "# Save the model to disk\n",
    "open(\"gesture_model.tflite\", \"wb\").write(tflite_model)\n",
    "  \n",
    "import os\n",
    "basic_model_size = os.path.getsize(\"gesture_model.tflite\")\n",
    "print(\"Model is %d bytes\" % basic_model_size)\n",
    "  \n",
    "  "
   ]
  },
  {
   "cell_type": "code",
   "execution_count": 29,
   "id": "fdbed560",
   "metadata": {},
   "outputs": [],
   "source": [
    "# Create a TensorFlow Lite interpreter for the converted model\n",
    "# interpreter = tf.lite.Interpreter(model_content=tflite_model)\n",
    "# interpreter.allocate_tensors()\n",
    "\n",
    "# # Get the details of the TensorFlow Lite model\n",
    "# ops_details = interpreter.get_tensor_details()\n",
    "\n",
    "# # Print the details of each operator in the TensorFlow Lite model\n",
    "# for op in ops_details:\n",
    "#     print(\"Operator Name:\", op['name'])\n",
    "#     print(\"Operator Index:\", op['index'])\n",
    "#     print(\"Operator Shape:\", op['shape'])\n",
    "#     print(\"Operator Type:\", op['dtype'])\n",
    "#     print()"
   ]
  },
  {
   "cell_type": "code",
   "execution_count": 30,
   "id": "06b006ac-b63a-4e74-8dce-297e7bd643f0",
   "metadata": {},
   "outputs": [
    {
     "name": "stdout",
     "output_type": "stream",
     "text": [
      "Header file, model.h, is 1,092,570 bytes.\n"
     ]
    }
   ],
   "source": [
    "!echo \"const unsigned char model[] = {\" > ./content/model.h\n",
    "!cat gesture_model.tflite | xxd -i      >> ./content/model.h\n",
    "!echo \"};\"                              >> ./content/model.h\n",
    "\n",
    "import os\n",
    "model_h_size = os.path.getsize(\"./content/model.h\")\n",
    "print(f\"Header file, model.h, is {model_h_size:,} bytes.\")"
   ]
  },
  {
   "cell_type": "code",
   "execution_count": 31,
   "metadata": {},
   "outputs": [],
   "source": [
    "from sklearn.metrics import f1_score\n",
    "\n",
    "# Assuming 'y_true' contains the true labels and 'y_pred' contains the predicted labels\n",
    "# f1 = f1_score(outputs_test, pre)"
   ]
  },
  {
   "cell_type": "code",
   "execution_count": 32,
   "id": "72fa2baf",
   "metadata": {},
   "outputs": [],
   "source": [
    "\n",
    "\n",
    "# model.compile(optimizer='adam',\n",
    "#               loss=tf.keras.losses.SparseCategoricalCrossentropy(from_logits=True),\n",
    "#               metrics=['accuracy'])"
   ]
  }
 ],
 "metadata": {
  "kernelspec": {
   "display_name": "Python 3 (ipykernel)",
   "language": "python",
   "name": "python3"
  },
  "language_info": {
   "codemirror_mode": {
    "name": "ipython",
    "version": 3
   },
   "file_extension": ".py",
   "mimetype": "text/x-python",
   "name": "python",
   "nbconvert_exporter": "python",
   "pygments_lexer": "ipython3",
   "version": "3.10.0"
  }
 },
 "nbformat": 4,
 "nbformat_minor": 5
}
